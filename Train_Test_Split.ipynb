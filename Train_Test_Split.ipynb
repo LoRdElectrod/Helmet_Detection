{
 "cells": [
  {
   "cell_type": "code",
   "execution_count": 1,
   "id": "dde2ddce-39b7-46e3-a268-6f45e2b6ef88",
   "metadata": {},
   "outputs": [],
   "source": [
    "import numpy as np\n",
    "from sklearn.model_selection import train_test_split"
   ]
  },
  {
   "cell_type": "code",
   "execution_count": 7,
   "id": "086cd057-ed45-4c78-8a4b-335e160f6117",
   "metadata": {},
   "outputs": [],
   "source": [
    "a = np.arange(1,101)\n",
    "b = np.arange(501,600)"
   ]
  },
  {
   "cell_type": "markdown",
   "id": "0850446b-66b9-429d-bb00-812b69a62510",
   "metadata": {},
   "source": [
    "### Split the Data"
   ]
  },
  {
   "cell_type": "code",
   "execution_count": 12,
   "id": "cc265ed1-fe37-4385-9bf1-b170e15418ac",
   "metadata": {},
   "outputs": [
    {
     "data": {
      "text/plain": [
       "[array([ 26,   5,  10,  94,  35,  87,  81,  63,  68,  97,  92,  32,  52,\n",
       "         64,  91,  17,   3,  79,  55,  16,   8,  19,  36,  75,  42,  95,\n",
       "         60,  58,   2,  41,   6,  82,  43,  56,  89,  14,  18,  37,  69,\n",
       "         12,  70,  23,  62,  48,  65,  44,  40,  15,  45,   7,  77,  30,\n",
       "         57,  83,  96,  84,  88, 100,  99,  98,  11,  53,  13,  86,  47,\n",
       "         46,  66,  90,  34,  78,  38,  31,  28,  25,  59]),\n",
       " array([73, 74,  4, 61, 49, 33, 21, 22, 80, 54, 20, 24, 72, 67, 50, 93,  9,\n",
       "        51, 29, 27, 76, 71,  1, 39, 85])]"
      ]
     },
     "execution_count": 12,
     "metadata": {},
     "output_type": "execute_result"
    }
   ],
   "source": [
    "train_test_split(a)"
   ]
  },
  {
   "cell_type": "code",
   "execution_count": 58,
   "id": "9e2768d3-987d-45ee-bfe3-e42036f6ee64",
   "metadata": {},
   "outputs": [],
   "source": [
    "# Assuming a and b are your datasets\n",
    "# Check the lengths of a and b\n",
    "if len(a) != len(b):\n",
    "    # Adjust a or b to have the same number of samples\n",
    "    # For example, if b has fewer samples, you can truncate a\n",
    "    min_length = min(len(a), len(b))\n",
    "    a = a[:min_length]  # Truncate a to match the length of b\n",
    "    b = b[:min_length]  # Or truncate b to match the length of a\n",
    "\n",
    "# Now both a and b have the same number of samples\n",
    "a_train, a_test, b_train, b_test = train_test_split(a, b, test_size=0.2, random_state=42)"
   ]
  },
  {
   "cell_type": "code",
   "execution_count": 60,
   "id": "ff239e9c-360e-4357-af11-89fa90259743",
   "metadata": {},
   "outputs": [
    {
     "data": {
      "text/plain": [
       "((79,), (20,))"
      ]
     },
     "execution_count": 60,
     "metadata": {},
     "output_type": "execute_result"
    }
   ],
   "source": [
    "a_train.shape, a_test.shape"
   ]
  },
  {
   "cell_type": "code",
   "execution_count": 62,
   "id": "90e13552-0876-4102-827c-57f00d9589cb",
   "metadata": {},
   "outputs": [
    {
     "data": {
      "text/plain": [
       "array([50, 71, 69, 16, 40, 34, 10, 82, 12, 66, 95, 31, 29, 90,  6, 46, 70,\n",
       "       36, 17, 73, 35,  8, 56, 28, 20, 81, 26, 54, 14, 25,  4, 18, 39,  9,\n",
       "       78,  7, 80, 37, 92, 57, 99, 55, 44, 51, 67, 47, 68, 62, 97, 79, 42,\n",
       "       59, 49, 86, 58, 76, 33, 94, 60, 64, 84, 38, 30,  2, 53, 22,  3, 24,\n",
       "       88, 91, 75, 87, 83, 21, 61, 72, 15, 93, 52])"
      ]
     },
     "execution_count": 62,
     "metadata": {},
     "output_type": "execute_result"
    }
   ],
   "source": [
    "a_train"
   ]
  },
  {
   "cell_type": "code",
   "execution_count": 64,
   "id": "0a67a611-aa2f-4a83-bfe4-ec228bdad8b6",
   "metadata": {},
   "outputs": [
    {
     "data": {
      "text/plain": [
       "array([63, 41, 96, 19, 98, 85, 65, 43, 11,  1, 32, 77, 48, 27, 45,  5, 23,\n",
       "       13, 89, 74])"
      ]
     },
     "execution_count": 64,
     "metadata": {},
     "output_type": "execute_result"
    }
   ],
   "source": [
    "a_test"
   ]
  },
  {
   "cell_type": "code",
   "execution_count": 66,
   "id": "8a4e97be-0d11-4600-a653-a6785e78091b",
   "metadata": {
    "scrolled": true
   },
   "outputs": [
    {
     "data": {
      "text/plain": [
       "array([550, 571, 569, 516, 540, 534, 510, 582, 512, 566, 595, 531, 529,\n",
       "       590, 506, 546, 570, 536, 517, 573, 535, 508, 556, 528, 520, 581,\n",
       "       526, 554, 514, 525, 504, 518, 539, 509, 578, 507, 580, 537, 592,\n",
       "       557, 599, 555, 544, 551, 567, 547, 568, 562, 597, 579, 542, 559,\n",
       "       549, 586, 558, 576, 533, 594, 560, 564, 584, 538, 530, 502, 553,\n",
       "       522, 503, 524, 588, 591, 575, 587, 583, 521, 561, 572, 515, 593,\n",
       "       552])"
      ]
     },
     "execution_count": 66,
     "metadata": {},
     "output_type": "execute_result"
    }
   ],
   "source": [
    "b_train"
   ]
  },
  {
   "cell_type": "code",
   "execution_count": 68,
   "id": "a728b3c0-e5b2-41b5-b6b6-66f97fa0ab9d",
   "metadata": {},
   "outputs": [
    {
     "data": {
      "text/plain": [
       "array([563, 541, 596, 519, 598, 585, 565, 543, 511, 501, 532, 577, 548,\n",
       "       527, 545, 505, 523, 513, 589, 574])"
      ]
     },
     "execution_count": 68,
     "metadata": {},
     "output_type": "execute_result"
    }
   ],
   "source": [
    "b_test"
   ]
  }
 ],
 "metadata": {
  "kernelspec": {
   "display_name": "Python 3 (ipykernel)",
   "language": "python",
   "name": "python3"
  },
  "language_info": {
   "codemirror_mode": {
    "name": "ipython",
    "version": 3
   },
   "file_extension": ".py",
   "mimetype": "text/x-python",
   "name": "python",
   "nbconvert_exporter": "python",
   "pygments_lexer": "ipython3",
   "version": "3.12.4"
  }
 },
 "nbformat": 4,
 "nbformat_minor": 5
}
